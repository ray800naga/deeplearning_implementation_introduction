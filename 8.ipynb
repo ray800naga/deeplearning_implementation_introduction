{
 "cells": [
  {
   "cell_type": "code",
   "execution_count": null,
   "metadata": {},
   "outputs": [],
   "source": [
    "import MeCab"
   ]
  },
  {
   "cell_type": "code",
   "execution_count": null,
   "metadata": {},
   "outputs": [],
   "source": [
    "import warnings\n",
    "warnings.filterwarnings('ignore')"
   ]
  },
  {
   "cell_type": "code",
   "execution_count": null,
   "metadata": {},
   "outputs": [],
   "source": [
    "# use -Owakati\n",
    "mecab = MeCab.Tagger('-Owakati')"
   ]
  },
  {
   "cell_type": "code",
   "execution_count": null,
   "metadata": {},
   "outputs": [],
   "source": [
    "res = mecab.parse('エラーの発生原因は、MeCabが正しくインストールされていない場合があります。')\n",
    "res"
   ]
  },
  {
   "cell_type": "code",
   "execution_count": null,
   "metadata": {},
   "outputs": [],
   "source": [
    "# transform to list\n",
    "res = res.split(' ')\n",
    "res"
   ]
  },
  {
   "cell_type": "code",
   "execution_count": null,
   "metadata": {},
   "outputs": [],
   "source": [
    "res = res[:-1]\n",
    "res"
   ]
  },
  {
   "cell_type": "code",
   "execution_count": null,
   "metadata": {},
   "outputs": [],
   "source": [
    "# use -Ochasen\n",
    "mecab = MeCab.Tagger('')\n",
    "\n",
    "res = mecab.parse('エラーの発生原因は、MeCabが正しくインストールされていない場合があります。')\n",
    "print(res)"
   ]
  },
  {
   "cell_type": "code",
   "execution_count": null,
   "metadata": {},
   "outputs": [],
   "source": [
    "res"
   ]
  },
  {
   "cell_type": "code",
   "execution_count": null,
   "metadata": {},
   "outputs": [],
   "source": [
    "res = res.split('\\n')\n",
    "res"
   ]
  },
  {
   "cell_type": "code",
   "execution_count": null,
   "metadata": {},
   "outputs": [],
   "source": [
    "res[0]"
   ]
  },
  {
   "cell_type": "code",
   "execution_count": null,
   "metadata": {},
   "outputs": [],
   "source": [
    "res[0].split('\\t')"
   ]
  },
  {
   "cell_type": "code",
   "execution_count": null,
   "metadata": {},
   "outputs": [],
   "source": [
    "res[1].split('\\t')"
   ]
  },
  {
   "cell_type": "code",
   "execution_count": null,
   "metadata": {},
   "outputs": [],
   "source": [
    "res[2].split('\\t')"
   ]
  },
  {
   "cell_type": "code",
   "execution_count": null,
   "metadata": {},
   "outputs": [],
   "source": [
    "res[-1]"
   ]
  },
  {
   "cell_type": "code",
   "execution_count": null,
   "metadata": {},
   "outputs": [],
   "source": [
    "res[-2]"
   ]
  },
  {
   "cell_type": "code",
   "execution_count": null,
   "metadata": {},
   "outputs": [],
   "source": [
    "res = res[:-2]"
   ]
  },
  {
   "cell_type": "code",
   "execution_count": null,
   "metadata": {},
   "outputs": [],
   "source": [
    "res"
   ]
  },
  {
   "cell_type": "code",
   "execution_count": null,
   "metadata": {},
   "outputs": [],
   "source": [
    "# split by \\t\n",
    "res_split = []\n",
    "for _res in res:\n",
    "    res_split.append(_res.split('\\t'))\n",
    "\n",
    "res_split"
   ]
  },
  {
   "cell_type": "code",
   "execution_count": 78,
   "metadata": {},
   "outputs": [
    {
     "name": "stdout",
     "output_type": "stream",
     "text": [
      "機械\tキカイ\tキカイ\t機械\t名詞-普通名詞-一般\t\t\t2\n",
      "学習\tガクシュー\tガクシュウ\t学習\t名詞-普通名詞-サ変可能\t\t\t0\n",
      "は\tワ\tハ\tは\t助詞-係助詞\t\t\t\n",
      "微分\tビブン\tビブン\t微分\t名詞-普通名詞-サ変可能\t\t\t0\n",
      "や\tヤ\tヤ\tや\t助詞-副助詞\t\t\t\n",
      "線形\tセンケー\tセンケイ\t線形\t名詞-普通名詞-一般\t\t\t0\n",
      "代数\tダイスー\tダイスウ\t代数\t名詞-普通名詞-一般\t\t\t3\n",
      "を\tオ\tヲ\tを\t助詞-格助詞\t\t\t\n",
      "はじめ\tハジメ\tハジメ\t始め\t名詞-普通名詞-副詞可能\t\t\t0\n",
      "と\tト\tト\tと\t助詞-格助詞\t\t\t\n",
      "し\tシ\tスル\t為る\t動詞-非自立可能\tサ行変格\t連用形-一般\t0\n",
      "た\tタ\tタ\tた\t助動詞\t助動詞-タ\t連体形-一般\t\n",
      "数学\tスーガク\tスウガク\t数学\t名詞-普通名詞-一般\t\t\t0\n",
      "が\tガ\tガ\tが\t助詞-格助詞\t\t\t\n",
      "不可欠\tフカケツ\tフカケツ\t不可欠\t形状詞-一般\t\t\t2\n",
      "で\tデ\tダ\tだ\t助動詞\t助動詞-ダ\t連用形-一般\t\n",
      "，\t\t\t，\t補助記号-読点\t\t\t\n",
      "数学\tスーガク\tスウガク\t数学\t名詞-普通名詞-一般\t\t\t0\n",
      "が\tガ\tガ\tが\t助詞-格助詞\t\t\t\n",
      "機械\tキカイ\tキカイ\t機械\t名詞-普通名詞-一般\t\t\t2\n",
      "学習\tガクシュー\tガクシュウ\t学習\t名詞-普通名詞-サ変可能\t\t\t0\n",
      "の\tノ\tノ\tの\t助詞-格助詞\t\t\t\n",
      "知識\tチシキ\tチシキ\t知識\t名詞-普通名詞-一般\t\t\t1\n",
      "を\tオ\tヲ\tを\t助詞-格助詞\t\t\t\n",
      "支える\tササエル\tササエル\t支える\t動詞-一般\t下一段-ア行\t連体形-一般\t0,3\n",
      "土台\tドダイ\tドダイ\t土台\t名詞-普通名詞-一般\t\t\t0\n",
      "と\tト\tト\tと\t助詞-格助詞\t\t\t\n",
      "なり\tナリ\tナル\t成る\t動詞-非自立可能\t五段-ラ行\t連用形-一般\t1\n",
      "ます\tマス\tマス\tます\t助動詞\t助動詞-マス\t終止形-一般\t\n",
      "．\t\t\t．\t補助記号-句点\t\t\t\n",
      "EOS\n",
      "\n"
     ]
    }
   ],
   "source": [
    "text = '機械学習は微分や線形代数をはじめとした数学が不可欠で，数学が機械学習の知識を支える土台となります．'\n",
    "\n",
    "res = mecab.parse(text)\n",
    "print(res)"
   ]
  },
  {
   "cell_type": "code",
   "execution_count": 79,
   "metadata": {},
   "outputs": [
    {
     "data": {
      "text/plain": [
       "['機械\\tキカイ\\tキカイ\\t機械\\t名詞-普通名詞-一般\\t\\t\\t2',\n",
       " '学習\\tガクシュー\\tガクシュウ\\t学習\\t名詞-普通名詞-サ変可能\\t\\t\\t0',\n",
       " 'は\\tワ\\tハ\\tは\\t助詞-係助詞\\t\\t\\t',\n",
       " '微分\\tビブン\\tビブン\\t微分\\t名詞-普通名詞-サ変可能\\t\\t\\t0',\n",
       " 'や\\tヤ\\tヤ\\tや\\t助詞-副助詞\\t\\t\\t',\n",
       " '線形\\tセンケー\\tセンケイ\\t線形\\t名詞-普通名詞-一般\\t\\t\\t0',\n",
       " '代数\\tダイスー\\tダイスウ\\t代数\\t名詞-普通名詞-一般\\t\\t\\t3',\n",
       " 'を\\tオ\\tヲ\\tを\\t助詞-格助詞\\t\\t\\t',\n",
       " 'はじめ\\tハジメ\\tハジメ\\t始め\\t名詞-普通名詞-副詞可能\\t\\t\\t0',\n",
       " 'と\\tト\\tト\\tと\\t助詞-格助詞\\t\\t\\t',\n",
       " 'し\\tシ\\tスル\\t為る\\t動詞-非自立可能\\tサ行変格\\t連用形-一般\\t0',\n",
       " 'た\\tタ\\tタ\\tた\\t助動詞\\t助動詞-タ\\t連体形-一般\\t',\n",
       " '数学\\tスーガク\\tスウガク\\t数学\\t名詞-普通名詞-一般\\t\\t\\t0',\n",
       " 'が\\tガ\\tガ\\tが\\t助詞-格助詞\\t\\t\\t',\n",
       " '不可欠\\tフカケツ\\tフカケツ\\t不可欠\\t形状詞-一般\\t\\t\\t2',\n",
       " 'で\\tデ\\tダ\\tだ\\t助動詞\\t助動詞-ダ\\t連用形-一般\\t',\n",
       " '，\\t\\t\\t，\\t補助記号-読点\\t\\t\\t',\n",
       " '数学\\tスーガク\\tスウガク\\t数学\\t名詞-普通名詞-一般\\t\\t\\t0',\n",
       " 'が\\tガ\\tガ\\tが\\t助詞-格助詞\\t\\t\\t',\n",
       " '機械\\tキカイ\\tキカイ\\t機械\\t名詞-普通名詞-一般\\t\\t\\t2',\n",
       " '学習\\tガクシュー\\tガクシュウ\\t学習\\t名詞-普通名詞-サ変可能\\t\\t\\t0',\n",
       " 'の\\tノ\\tノ\\tの\\t助詞-格助詞\\t\\t\\t',\n",
       " '知識\\tチシキ\\tチシキ\\t知識\\t名詞-普通名詞-一般\\t\\t\\t1',\n",
       " 'を\\tオ\\tヲ\\tを\\t助詞-格助詞\\t\\t\\t',\n",
       " '支える\\tササエル\\tササエル\\t支える\\t動詞-一般\\t下一段-ア行\\t連体形-一般\\t0,3',\n",
       " '土台\\tドダイ\\tドダイ\\t土台\\t名詞-普通名詞-一般\\t\\t\\t0',\n",
       " 'と\\tト\\tト\\tと\\t助詞-格助詞\\t\\t\\t',\n",
       " 'なり\\tナリ\\tナル\\t成る\\t動詞-非自立可能\\t五段-ラ行\\t連用形-一般\\t1',\n",
       " 'ます\\tマス\\tマス\\tます\\t助動詞\\t助動詞-マス\\t終止形-一般\\t',\n",
       " '．\\t\\t\\t．\\t補助記号-句点\\t\\t\\t',\n",
       " 'EOS',\n",
       " '']"
      ]
     },
     "execution_count": 79,
     "metadata": {},
     "output_type": "execute_result"
    }
   ],
   "source": [
    "# split by \\n\n",
    "res = res.split('\\n')\n",
    "res"
   ]
  },
  {
   "cell_type": "code",
   "execution_count": 80,
   "metadata": {},
   "outputs": [
    {
     "data": {
      "text/plain": [
       "['機械\\tキカイ\\tキカイ\\t機械\\t名詞-普通名詞-一般\\t\\t\\t2',\n",
       " '学習\\tガクシュー\\tガクシュウ\\t学習\\t名詞-普通名詞-サ変可能\\t\\t\\t0',\n",
       " 'は\\tワ\\tハ\\tは\\t助詞-係助詞\\t\\t\\t',\n",
       " '微分\\tビブン\\tビブン\\t微分\\t名詞-普通名詞-サ変可能\\t\\t\\t0',\n",
       " 'や\\tヤ\\tヤ\\tや\\t助詞-副助詞\\t\\t\\t',\n",
       " '線形\\tセンケー\\tセンケイ\\t線形\\t名詞-普通名詞-一般\\t\\t\\t0',\n",
       " '代数\\tダイスー\\tダイスウ\\t代数\\t名詞-普通名詞-一般\\t\\t\\t3',\n",
       " 'を\\tオ\\tヲ\\tを\\t助詞-格助詞\\t\\t\\t',\n",
       " 'はじめ\\tハジメ\\tハジメ\\t始め\\t名詞-普通名詞-副詞可能\\t\\t\\t0',\n",
       " 'と\\tト\\tト\\tと\\t助詞-格助詞\\t\\t\\t',\n",
       " 'し\\tシ\\tスル\\t為る\\t動詞-非自立可能\\tサ行変格\\t連用形-一般\\t0',\n",
       " 'た\\tタ\\tタ\\tた\\t助動詞\\t助動詞-タ\\t連体形-一般\\t',\n",
       " '数学\\tスーガク\\tスウガク\\t数学\\t名詞-普通名詞-一般\\t\\t\\t0',\n",
       " 'が\\tガ\\tガ\\tが\\t助詞-格助詞\\t\\t\\t',\n",
       " '不可欠\\tフカケツ\\tフカケツ\\t不可欠\\t形状詞-一般\\t\\t\\t2',\n",
       " 'で\\tデ\\tダ\\tだ\\t助動詞\\t助動詞-ダ\\t連用形-一般\\t',\n",
       " '，\\t\\t\\t，\\t補助記号-読点\\t\\t\\t',\n",
       " '数学\\tスーガク\\tスウガク\\t数学\\t名詞-普通名詞-一般\\t\\t\\t0',\n",
       " 'が\\tガ\\tガ\\tが\\t助詞-格助詞\\t\\t\\t',\n",
       " '機械\\tキカイ\\tキカイ\\t機械\\t名詞-普通名詞-一般\\t\\t\\t2',\n",
       " '学習\\tガクシュー\\tガクシュウ\\t学習\\t名詞-普通名詞-サ変可能\\t\\t\\t0',\n",
       " 'の\\tノ\\tノ\\tの\\t助詞-格助詞\\t\\t\\t',\n",
       " '知識\\tチシキ\\tチシキ\\t知識\\t名詞-普通名詞-一般\\t\\t\\t1',\n",
       " 'を\\tオ\\tヲ\\tを\\t助詞-格助詞\\t\\t\\t',\n",
       " '支える\\tササエル\\tササエル\\t支える\\t動詞-一般\\t下一段-ア行\\t連体形-一般\\t0,3',\n",
       " '土台\\tドダイ\\tドダイ\\t土台\\t名詞-普通名詞-一般\\t\\t\\t0',\n",
       " 'と\\tト\\tト\\tと\\t助詞-格助詞\\t\\t\\t',\n",
       " 'なり\\tナリ\\tナル\\t成る\\t動詞-非自立可能\\t五段-ラ行\\t連用形-一般\\t1',\n",
       " 'ます\\tマス\\tマス\\tます\\t助動詞\\t助動詞-マス\\t終止形-一般\\t',\n",
       " '．\\t\\t\\t．\\t補助記号-句点\\t\\t\\t']"
      ]
     },
     "execution_count": 80,
     "metadata": {},
     "output_type": "execute_result"
    }
   ],
   "source": [
    "res = res[:-2]\n",
    "res"
   ]
  },
  {
   "cell_type": "code",
   "execution_count": 81,
   "metadata": {},
   "outputs": [
    {
     "data": {
      "text/plain": [
       "['機械', 'キカイ', 'キカイ', '機械', '名詞-普通名詞-一般', '', '', '2']"
      ]
     },
     "execution_count": 81,
     "metadata": {},
     "output_type": "execute_result"
    }
   ],
   "source": [
    "# split by \\t\n",
    "res = res[0].split('\\t')\n",
    "res"
   ]
  },
  {
   "cell_type": "code",
   "execution_count": 82,
   "metadata": {},
   "outputs": [
    {
     "data": {
      "text/plain": [
       "'名詞-普通名詞-一般'"
      ]
     },
     "execution_count": 82,
     "metadata": {},
     "output_type": "execute_result"
    }
   ],
   "source": [
    "res[4]"
   ]
  },
  {
   "cell_type": "code",
   "execution_count": 83,
   "metadata": {},
   "outputs": [
    {
     "data": {
      "text/plain": [
       "['機械', '学習', '微分', '線形', '代数', 'はじめ', '数学', '数学', '機械', '学習', '知識', '土台']"
      ]
     },
     "execution_count": 83,
     "metadata": {},
     "output_type": "execute_result"
    }
   ],
   "source": [
    "# morphological analysis\n",
    "res = mecab.parse(text)\n",
    "\n",
    "# extract only noun\n",
    "nouns = []\n",
    "words = res.split('\\n')[:-2]\n",
    "for word in words:\n",
    "    part = word.split('\\t')\n",
    "    if '名詞' in part[4]:\n",
    "        nouns.append(part[0])\n",
    "\n",
    "# nouns extraction\n",
    "nouns"
   ]
  },
  {
   "cell_type": "code",
   "execution_count": 84,
   "metadata": {},
   "outputs": [],
   "source": [
    "# functionalization\n",
    "def get_nouns(text):\n",
    "    nouns = []\n",
    "    res = mecab.parse(text)\n",
    "    words = res.split('\\n')[:-2]\n",
    "    for word in words:\n",
    "        part = word.split('\\t')\n",
    "        if '名詞' in part[4]:\n",
    "            nouns.append(part[0])\n",
    "    return nouns"
   ]
  },
  {
   "cell_type": "code",
   "execution_count": 85,
   "metadata": {},
   "outputs": [
    {
     "data": {
      "text/plain": [
       "['キカガク', 'ディープ', 'ラーニング', '機械', '学習', '人工', '知能', 'キカガク', '流', '教育']"
      ]
     },
     "execution_count": 85,
     "metadata": {},
     "output_type": "execute_result"
    }
   ],
   "source": [
    "text1 = 'キカガクでは，ディープラーニングを含んだ機械学習や人工知能のキカガク流教育を行っています．'\n",
    "text2 = 'キカガクの代表の吉崎は，大学院では機械学習・ロボットのシステム制御，画像処理の研究に携わっていました．'\n",
    "text3 = '機械学習は微分や線形代数をはじめとした数学が不可欠で，数学が機械学習の知識を支える土台となります．'\n",
    "\n",
    "nouns1 = get_nouns(text1)\n",
    "nouns1"
   ]
  },
  {
   "cell_type": "code",
   "execution_count": 87,
   "metadata": {},
   "outputs": [
    {
     "data": {
      "text/plain": [
       "['キカガク',\n",
       " '代表',\n",
       " '吉崎',\n",
       " '大学',\n",
       " '院',\n",
       " '機械',\n",
       " '学習',\n",
       " 'ロボット',\n",
       " 'システム',\n",
       " '制御',\n",
       " '画像',\n",
       " '処理',\n",
       " '研究']"
      ]
     },
     "execution_count": 87,
     "metadata": {},
     "output_type": "execute_result"
    }
   ],
   "source": [
    "nouns2 = get_nouns(text2)\n",
    "nouns2"
   ]
  },
  {
   "cell_type": "code",
   "execution_count": 88,
   "metadata": {},
   "outputs": [
    {
     "data": {
      "text/plain": [
       "['機械', '学習', '微分', '線形', '代数', 'はじめ', '数学', '数学', '機械', '学習', '知識', '土台']"
      ]
     },
     "execution_count": 88,
     "metadata": {},
     "output_type": "execute_result"
    }
   ],
   "source": [
    "nouns3 = get_nouns(text3)\n",
    "nouns3"
   ]
  },
  {
   "cell_type": "code",
   "execution_count": 89,
   "metadata": {},
   "outputs": [],
   "source": [
    "from gensim import corpora, matutils"
   ]
  },
  {
   "cell_type": "code",
   "execution_count": 90,
   "metadata": {},
   "outputs": [
    {
     "data": {
      "text/plain": [
       "[['キカガク', 'ディープ', 'ラーニング', '機械', '学習', '人工', '知能', 'キカガク', '流', '教育'],\n",
       " ['キカガク',\n",
       "  '代表',\n",
       "  '吉崎',\n",
       "  '大学',\n",
       "  '院',\n",
       "  '機械',\n",
       "  '学習',\n",
       "  'ロボット',\n",
       "  'システム',\n",
       "  '制御',\n",
       "  '画像',\n",
       "  '処理',\n",
       "  '研究'],\n",
       " ['機械', '学習', '微分', '線形', '代数', 'はじめ', '数学', '数学', '機械', '学習', '知識', '土台']]"
      ]
     },
     "execution_count": 90,
     "metadata": {},
     "output_type": "execute_result"
    }
   ],
   "source": [
    "# nouns list\n",
    "word_collect = [nouns1, nouns2, nouns3]\n",
    "word_collect"
   ]
  },
  {
   "cell_type": "code",
   "execution_count": 91,
   "metadata": {},
   "outputs": [],
   "source": [
    "# dictionary creation\n",
    "dictionary = corpora.Dictionary(word_collect)"
   ]
  },
  {
   "cell_type": "code",
   "execution_count": 92,
   "metadata": {},
   "outputs": [
    {
     "data": {
      "text/plain": [
       "<gensim.corpora.dictionary.Dictionary at 0x21a63ff4550>"
      ]
     },
     "execution_count": 92,
     "metadata": {},
     "output_type": "execute_result"
    }
   ],
   "source": [
    "dictionary"
   ]
  },
  {
   "cell_type": "code",
   "execution_count": 93,
   "metadata": {},
   "outputs": [
    {
     "data": {
      "text/plain": [
       "26"
      ]
     },
     "execution_count": 93,
     "metadata": {},
     "output_type": "execute_result"
    }
   ],
   "source": [
    "len(dictionary)"
   ]
  },
  {
   "cell_type": "code",
   "execution_count": 94,
   "metadata": {},
   "outputs": [
    {
     "name": "stdout",
     "output_type": "stream",
     "text": [
      "(0, 'キカガク')\n",
      "(1, 'ディープ')\n",
      "(2, 'ラーニング')\n",
      "(3, '人工')\n",
      "(4, '学習')\n",
      "(5, '教育')\n",
      "(6, '機械')\n",
      "(7, '流')\n",
      "(8, '知能')\n",
      "(9, 'システム')\n",
      "(10, 'ロボット')\n",
      "(11, '代表')\n",
      "(12, '処理')\n",
      "(13, '制御')\n",
      "(14, '吉崎')\n",
      "(15, '大学')\n",
      "(16, '画像')\n",
      "(17, '研究')\n",
      "(18, '院')\n",
      "(19, 'はじめ')\n",
      "(20, '代数')\n",
      "(21, '土台')\n",
      "(22, '微分')\n",
      "(23, '数学')\n",
      "(24, '知識')\n",
      "(25, '線形')\n"
     ]
    }
   ],
   "source": [
    "for word in dictionary.items():\n",
    "    print(word)"
   ]
  },
  {
   "cell_type": "code",
   "execution_count": 95,
   "metadata": {},
   "outputs": [
    {
     "data": {
      "text/plain": [
       "[(0, 2), (1, 1), (2, 1), (3, 1), (4, 1), (5, 1), (6, 1), (7, 1), (8, 1)]"
      ]
     },
     "execution_count": 95,
     "metadata": {},
     "output_type": "execute_result"
    }
   ],
   "source": [
    "# transform with doc2bow\n",
    "bow1_id = dictionary.doc2bow(nouns1)\n",
    "bow1_id"
   ]
  },
  {
   "cell_type": "code",
   "execution_count": 96,
   "metadata": {},
   "outputs": [
    {
     "data": {
      "text/plain": [
       "[(0, 1),\n",
       " (4, 1),\n",
       " (6, 1),\n",
       " (9, 1),\n",
       " (10, 1),\n",
       " (11, 1),\n",
       " (12, 1),\n",
       " (13, 1),\n",
       " (14, 1),\n",
       " (15, 1),\n",
       " (16, 1),\n",
       " (17, 1),\n",
       " (18, 1)]"
      ]
     },
     "execution_count": 96,
     "metadata": {},
     "output_type": "execute_result"
    }
   ],
   "source": [
    "bow2_id = dictionary.doc2bow(nouns2)\n",
    "bow2_id"
   ]
  },
  {
   "cell_type": "code",
   "execution_count": 97,
   "metadata": {},
   "outputs": [
    {
     "data": {
      "text/plain": [
       "[(4, 2), (6, 2), (19, 1), (20, 1), (21, 1), (22, 1), (23, 2), (24, 1), (25, 1)]"
      ]
     },
     "execution_count": 97,
     "metadata": {},
     "output_type": "execute_result"
    }
   ],
   "source": [
    "bow3_id = dictionary.doc2bow(nouns3)\n",
    "bow3_id"
   ]
  },
  {
   "cell_type": "code",
   "execution_count": 99,
   "metadata": {},
   "outputs": [
    {
     "data": {
      "text/plain": [
       "array([[2.],\n",
       "       [1.],\n",
       "       [1.],\n",
       "       [1.],\n",
       "       [1.],\n",
       "       [1.],\n",
       "       [1.],\n",
       "       [1.],\n",
       "       [1.],\n",
       "       [0.],\n",
       "       [0.],\n",
       "       [0.],\n",
       "       [0.],\n",
       "       [0.],\n",
       "       [0.],\n",
       "       [0.],\n",
       "       [0.],\n",
       "       [0.],\n",
       "       [0.],\n",
       "       [0.],\n",
       "       [0.],\n",
       "       [0.],\n",
       "       [0.],\n",
       "       [0.],\n",
       "       [0.],\n",
       "       [0.]], dtype=float32)"
      ]
     },
     "execution_count": 99,
     "metadata": {},
     "output_type": "execute_result"
    }
   ],
   "source": [
    "# get num of all words\n",
    "n_words = len(dictionary)\n",
    "\n",
    "# transform to the length of all words\n",
    "bow = matutils.corpus2dense([bow1_id], n_words)\n",
    "bow"
   ]
  },
  {
   "cell_type": "code",
   "execution_count": 101,
   "metadata": {},
   "outputs": [
    {
     "data": {
      "text/plain": [
       "(26, 1)"
      ]
     },
     "execution_count": 101,
     "metadata": {},
     "output_type": "execute_result"
    }
   ],
   "source": [
    "bow.shape"
   ]
  },
  {
   "cell_type": "code",
   "execution_count": 102,
   "metadata": {},
   "outputs": [
    {
     "data": {
      "text/plain": [
       "array([[2., 1., 1., 1., 1., 1., 1., 1., 1., 0., 0., 0., 0., 0., 0., 0.,\n",
       "        0., 0., 0., 0., 0., 0., 0., 0., 0., 0.]], dtype=float32)"
      ]
     },
     "execution_count": 102,
     "metadata": {},
     "output_type": "execute_result"
    }
   ],
   "source": [
    "# transform to row direction\n",
    "bow = matutils.corpus2dense([bow1_id], n_words).T\n",
    "bow"
   ]
  },
  {
   "cell_type": "code",
   "execution_count": 103,
   "metadata": {},
   "outputs": [
    {
     "data": {
      "text/plain": [
       "(1, 26)"
      ]
     },
     "execution_count": 103,
     "metadata": {},
     "output_type": "execute_result"
    }
   ],
   "source": [
    "# size check\n",
    "bow.shape"
   ]
  },
  {
   "cell_type": "code",
   "execution_count": 104,
   "metadata": {},
   "outputs": [
    {
     "data": {
      "text/plain": [
       "array([2., 1., 1., 1., 1., 1., 1., 1., 1., 0., 0., 0., 0., 0., 0., 0., 0.,\n",
       "       0., 0., 0., 0., 0., 0., 0., 0., 0.], dtype=float32)"
      ]
     },
     "execution_count": 104,
     "metadata": {},
     "output_type": "execute_result"
    }
   ],
   "source": [
    "# vectorize\n",
    "bow = matutils.corpus2dense([bow1_id], n_words).T[0]\n",
    "bow"
   ]
  },
  {
   "cell_type": "code",
   "execution_count": 105,
   "metadata": {},
   "outputs": [
    {
     "data": {
      "text/plain": [
       "(26,)"
      ]
     },
     "execution_count": 105,
     "metadata": {},
     "output_type": "execute_result"
    }
   ],
   "source": [
    "bow.shape"
   ]
  },
  {
   "cell_type": "code",
   "execution_count": 106,
   "metadata": {},
   "outputs": [
    {
     "data": {
      "text/plain": [
       "array([2., 1., 1., 1., 1., 1., 1., 1., 1., 0., 0., 0., 0., 0., 0., 0., 0.,\n",
       "       0., 0., 0., 0., 0., 0., 0., 0., 0.], dtype=float32)"
      ]
     },
     "execution_count": 106,
     "metadata": {},
     "output_type": "execute_result"
    }
   ],
   "source": [
    "# feature vector with BoW\n",
    "x = []\n",
    "for nouns in word_collect:\n",
    "    bow_id = dictionary.doc2bow(nouns)\n",
    "    bow = matutils.corpus2dense([bow_id], n_words).T[0]\n",
    "    x.append(bow)\n",
    "\n",
    "x[0]"
   ]
  },
  {
   "cell_type": "code",
   "execution_count": 108,
   "metadata": {},
   "outputs": [
    {
     "data": {
      "text/plain": [
       "array([1., 0., 0., 0., 1., 0., 1., 0., 0., 1., 1., 1., 1., 1., 1., 1., 1.,\n",
       "       1., 1., 0., 0., 0., 0., 0., 0., 0.], dtype=float32)"
      ]
     },
     "execution_count": 108,
     "metadata": {},
     "output_type": "execute_result"
    }
   ],
   "source": [
    "x[1]"
   ]
  },
  {
   "cell_type": "code",
   "execution_count": null,
   "metadata": {},
   "outputs": [],
   "source": []
  }
 ],
 "metadata": {
  "kernelspec": {
   "display_name": "Python 3.10.5 64-bit",
   "language": "python",
   "name": "python3"
  },
  "language_info": {
   "codemirror_mode": {
    "name": "ipython",
    "version": 3
   },
   "file_extension": ".py",
   "mimetype": "text/x-python",
   "name": "python",
   "nbconvert_exporter": "python",
   "pygments_lexer": "ipython3",
   "version": "3.10.6"
  },
  "orig_nbformat": 4,
  "vscode": {
   "interpreter": {
    "hash": "84ad91a4a539be6a2ce1eec2640e282be04f02c4091a066051e3be5a944eca7c"
   }
  }
 },
 "nbformat": 4,
 "nbformat_minor": 2
}
