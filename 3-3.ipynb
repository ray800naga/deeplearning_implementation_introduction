{
 "cells": [
  {
   "cell_type": "code",
   "execution_count": 2,
   "metadata": {},
   "outputs": [],
   "source": [
    "from sklearn.datasets import load_iris\n",
    "import torch"
   ]
  },
  {
   "cell_type": "code",
   "execution_count": 3,
   "metadata": {},
   "outputs": [
    {
     "data": {
      "text/plain": [
       "((150, 4), (150,))"
      ]
     },
     "execution_count": 3,
     "metadata": {},
     "output_type": "execute_result"
    }
   ],
   "source": [
    "# load iris data set\n",
    "x, t = load_iris(return_X_y=True)\n",
    "\n",
    "# check size\n",
    "x.shape, t.shape"
   ]
  },
  {
   "cell_type": "code",
   "execution_count": 4,
   "metadata": {},
   "outputs": [
    {
     "data": {
      "text/plain": [
       "(numpy.ndarray, numpy.ndarray)"
      ]
     },
     "execution_count": 4,
     "metadata": {},
     "output_type": "execute_result"
    }
   ],
   "source": [
    "# check type\n",
    "type(x), type(t)"
   ]
  },
  {
   "cell_type": "code",
   "execution_count": 5,
   "metadata": {},
   "outputs": [
    {
     "data": {
      "text/plain": [
       "(dtype('float64'), dtype('int32'))"
      ]
     },
     "execution_count": 5,
     "metadata": {},
     "output_type": "execute_result"
    }
   ],
   "source": [
    "# check data type\n",
    "x.dtype, t.dtype"
   ]
  },
  {
   "cell_type": "code",
   "execution_count": 6,
   "metadata": {},
   "outputs": [
    {
     "data": {
      "text/plain": [
       "(torch.Tensor, torch.Tensor)"
      ]
     },
     "execution_count": 6,
     "metadata": {},
     "output_type": "execute_result"
    }
   ],
   "source": [
    "x = torch.tensor(x, dtype=torch.float32)\n",
    "t = torch.tensor(t, dtype=torch.int64)\n",
    "\n",
    "# check type\n",
    "type(x), type(t)"
   ]
  },
  {
   "cell_type": "code",
   "execution_count": 7,
   "metadata": {},
   "outputs": [
    {
     "data": {
      "text/plain": [
       "(torch.float32, torch.int64)"
      ]
     },
     "execution_count": 7,
     "metadata": {},
     "output_type": "execute_result"
    }
   ],
   "source": [
    "# check data type\n",
    "x.dtype, t.dtype"
   ]
  },
  {
   "cell_type": "code",
   "execution_count": 8,
   "metadata": {},
   "outputs": [
    {
     "data": {
      "text/plain": [
       "<torch.utils.data.dataset.TensorDataset at 0x13f0141d4e0>"
      ]
     },
     "execution_count": 8,
     "metadata": {},
     "output_type": "execute_result"
    }
   ],
   "source": [
    "from torch.utils.data import TensorDataset\n",
    "\n",
    "# concat input values and target values, and convert to a Dataset object\n",
    "dataset = TensorDataset(x, t)\n",
    "dataset"
   ]
  },
  {
   "cell_type": "code",
   "execution_count": 9,
   "metadata": {},
   "outputs": [
    {
     "data": {
      "text/plain": [
       "torch.utils.data.dataset.TensorDataset"
      ]
     },
     "execution_count": 9,
     "metadata": {},
     "output_type": "execute_result"
    }
   ],
   "source": [
    "# check type\n",
    "type(dataset)"
   ]
  },
  {
   "cell_type": "code",
   "execution_count": 10,
   "metadata": {},
   "outputs": [
    {
     "data": {
      "text/plain": [
       "(tensor([5.1000, 3.5000, 1.4000, 0.2000]), tensor(0))"
      ]
     },
     "execution_count": 10,
     "metadata": {},
     "output_type": "execute_result"
    }
   ],
   "source": [
    "# values of sample 1\n",
    "dataset[0]"
   ]
  },
  {
   "cell_type": "code",
   "execution_count": 11,
   "metadata": {},
   "outputs": [
    {
     "data": {
      "text/plain": [
       "tuple"
      ]
     },
     "execution_count": 11,
     "metadata": {},
     "output_type": "execute_result"
    }
   ],
   "source": [
    "# check type\n",
    "type(dataset[0])"
   ]
  },
  {
   "cell_type": "code",
   "execution_count": 12,
   "metadata": {},
   "outputs": [
    {
     "data": {
      "text/plain": [
       "tensor([5.1000, 3.5000, 1.4000, 0.2000])"
      ]
     },
     "execution_count": 12,
     "metadata": {},
     "output_type": "execute_result"
    }
   ],
   "source": [
    "# input value of sample 1\n",
    "dataset[0][0]"
   ]
  },
  {
   "cell_type": "code",
   "execution_count": 13,
   "metadata": {},
   "outputs": [
    {
     "data": {
      "text/plain": [
       "tensor(0)"
      ]
     },
     "execution_count": 13,
     "metadata": {},
     "output_type": "execute_result"
    }
   ],
   "source": [
    "# target value of sample 1\n",
    "dataset[0][1]"
   ]
  },
  {
   "cell_type": "code",
   "execution_count": 14,
   "metadata": {},
   "outputs": [
    {
     "data": {
      "text/plain": [
       "150"
      ]
     },
     "execution_count": 14,
     "metadata": {},
     "output_type": "execute_result"
    }
   ],
   "source": [
    "# number of samples\n",
    "len(dataset)"
   ]
  },
  {
   "cell_type": "code",
   "execution_count": 15,
   "metadata": {},
   "outputs": [
    {
     "data": {
      "text/plain": [
       "(90, 30, 30)"
      ]
     },
     "execution_count": 15,
     "metadata": {},
     "output_type": "execute_result"
    }
   ],
   "source": [
    "# number of sammples for each dataset\n",
    "# train : val : test = 60% : 20% : 20%\n",
    "n_train = int(len(dataset) * 0.6)\n",
    "n_val = int(len(dataset) * 0.2)\n",
    "n_test = len(dataset) - n_train - n_val\n",
    "\n",
    "# check each number of sample\n",
    "n_train, n_val, n_test"
   ]
  },
  {
   "cell_type": "code",
   "execution_count": 16,
   "metadata": {},
   "outputs": [],
   "source": [
    "from torch.utils.data import random_split"
   ]
  },
  {
   "cell_type": "code",
   "execution_count": 17,
   "metadata": {},
   "outputs": [
    {
     "data": {
      "text/plain": [
       "(90, 30, 30)"
      ]
     },
     "execution_count": 17,
     "metadata": {},
     "output_type": "execute_result"
    }
   ],
   "source": [
    "# fix seed to maintain reproductivity for random split\n",
    "torch.manual_seed(0)\n",
    "\n",
    "# split dataset\n",
    "train, val, test = random_split(dataset, [n_train, n_val, n_test])\n",
    "\n",
    "# check sample num\n",
    "len(train), len(val), len(test)"
   ]
  },
  {
   "cell_type": "code",
   "execution_count": 18,
   "metadata": {},
   "outputs": [],
   "source": [
    "# batch size\n",
    "batch_size = 10"
   ]
  },
  {
   "cell_type": "code",
   "execution_count": 19,
   "metadata": {},
   "outputs": [],
   "source": [
    "from torch.utils.data import DataLoader\n",
    "\n",
    "# shuffle -> True only for train data\n",
    "train_loader = DataLoader(train, batch_size, shuffle=True)\n",
    "val_loader = DataLoader(val, batch_size)\n",
    "test_loader = DataLoader(test, batch_size)"
   ]
  },
  {
   "cell_type": "code",
   "execution_count": 20,
   "metadata": {},
   "outputs": [],
   "source": [
    "import torch.nn as nn\n",
    "import torch.nn.functional as F\n",
    "\n",
    "class Net(nn.Module):\n",
    "    # define objects\n",
    "    def __init__(self):\n",
    "        super(Net, self).__init__()\n",
    "        self.fc1 = nn.Linear(4, 4)\n",
    "        self.fc2 = nn.Linear(4, 3)\n",
    "\n",
    "    # forward prop.\n",
    "    def forward(self, x):\n",
    "        x = self.fc1(x)\n",
    "        x = F.relu(x)\n",
    "        x = self.fc2(x)\n",
    "        return x"
   ]
  },
  {
   "cell_type": "code",
   "execution_count": 21,
   "metadata": {},
   "outputs": [
    {
     "data": {
      "text/plain": [
       "Net(\n",
       "  (fc1): Linear(in_features=4, out_features=4, bias=True)\n",
       "  (fc2): Linear(in_features=4, out_features=3, bias=True)\n",
       ")"
      ]
     },
     "execution_count": 21,
     "metadata": {},
     "output_type": "execute_result"
    }
   ],
   "source": [
    "# fix random number seed to maintain reproductivity\n",
    "torch.manual_seed(0)\n",
    "\n",
    "# generate instance\n",
    "net = Net()\n",
    "\n",
    "# check network\n",
    "net"
   ]
  },
  {
   "cell_type": "code",
   "execution_count": 22,
   "metadata": {},
   "outputs": [
    {
     "data": {
      "text/plain": [
       "CrossEntropyLoss()"
      ]
     },
     "execution_count": 22,
     "metadata": {},
     "output_type": "execute_result"
    }
   ],
   "source": [
    "criterion = nn.CrossEntropyLoss()\n",
    "criterion"
   ]
  },
  {
   "cell_type": "code",
   "execution_count": 23,
   "metadata": {},
   "outputs": [
    {
     "data": {
      "text/plain": [
       "SGD (\n",
       "Parameter Group 0\n",
       "    dampening: 0\n",
       "    foreach: None\n",
       "    lr: 0.1\n",
       "    maximize: False\n",
       "    momentum: 0\n",
       "    nesterov: False\n",
       "    weight_decay: 0\n",
       ")"
      ]
     },
     "execution_count": 23,
     "metadata": {},
     "output_type": "execute_result"
    }
   ],
   "source": [
    "optimizer = torch.optim.SGD(net.parameters(), lr=0.1)\n",
    "optimizer"
   ]
  },
  {
   "cell_type": "code",
   "execution_count": 24,
   "metadata": {},
   "outputs": [
    {
     "data": {
      "text/plain": [
       "[tensor([[5.4000, 3.9000, 1.7000, 0.4000],\n",
       "         [4.6000, 3.6000, 1.0000, 0.2000],\n",
       "         [6.5000, 3.0000, 5.5000, 1.8000],\n",
       "         [6.9000, 3.1000, 5.4000, 2.1000],\n",
       "         [6.3000, 2.5000, 4.9000, 1.5000],\n",
       "         [7.1000, 3.0000, 5.9000, 2.1000],\n",
       "         [5.8000, 2.7000, 4.1000, 1.0000],\n",
       "         [7.0000, 3.2000, 4.7000, 1.4000],\n",
       "         [6.7000, 3.0000, 5.0000, 1.7000],\n",
       "         [7.2000, 3.6000, 6.1000, 2.5000]]),\n",
       " tensor([0, 0, 2, 2, 1, 2, 1, 1, 1, 2])]"
      ]
     },
     "execution_count": 24,
     "metadata": {},
     "output_type": "execute_result"
    }
   ],
   "source": [
    "# get samples of batch size\n",
    "batch = next(iter(train_loader))\n",
    "batch"
   ]
  },
  {
   "cell_type": "code",
   "execution_count": 25,
   "metadata": {},
   "outputs": [
    {
     "data": {
      "text/plain": [
       "tensor([[5.4000, 3.9000, 1.7000, 0.4000],\n",
       "        [4.6000, 3.6000, 1.0000, 0.2000],\n",
       "        [6.5000, 3.0000, 5.5000, 1.8000],\n",
       "        [6.9000, 3.1000, 5.4000, 2.1000],\n",
       "        [6.3000, 2.5000, 4.9000, 1.5000],\n",
       "        [7.1000, 3.0000, 5.9000, 2.1000],\n",
       "        [5.8000, 2.7000, 4.1000, 1.0000],\n",
       "        [7.0000, 3.2000, 4.7000, 1.4000],\n",
       "        [6.7000, 3.0000, 5.0000, 1.7000],\n",
       "        [7.2000, 3.6000, 6.1000, 2.5000]])"
      ]
     },
     "execution_count": 25,
     "metadata": {},
     "output_type": "execute_result"
    }
   ],
   "source": [
    "# split input values and target values\n",
    "x, t = batch\n",
    "\n",
    "# check input values\n",
    "x"
   ]
  },
  {
   "cell_type": "code",
   "execution_count": 26,
   "metadata": {},
   "outputs": [
    {
     "data": {
      "text/plain": [
       "tensor([0, 0, 2, 2, 1, 2, 1, 1, 1, 2])"
      ]
     },
     "execution_count": 26,
     "metadata": {},
     "output_type": "execute_result"
    }
   ],
   "source": [
    "# check target values\n",
    "t"
   ]
  },
  {
   "cell_type": "code",
   "execution_count": 27,
   "metadata": {},
   "outputs": [
    {
     "data": {
      "text/plain": [
       "Parameter containing:\n",
       "tensor([[-0.0037,  0.2682, -0.4115, -0.3680],\n",
       "        [-0.1926,  0.1341, -0.0099,  0.3964],\n",
       "        [-0.0444,  0.1323, -0.1511, -0.0983],\n",
       "        [-0.4777, -0.3311, -0.2061,  0.0185]], requires_grad=True)"
      ]
     },
     "execution_count": 27,
     "metadata": {},
     "output_type": "execute_result"
    }
   ],
   "source": [
    "# weight of fully connected layer fc1\n",
    "net.fc1.weight"
   ]
  },
  {
   "cell_type": "code",
   "execution_count": 28,
   "metadata": {},
   "outputs": [
    {
     "data": {
      "text/plain": [
       "Parameter containing:\n",
       "tensor([ 0.1977,  0.3000, -0.3390, -0.2177], requires_grad=True)"
      ]
     },
     "execution_count": 28,
     "metadata": {},
     "output_type": "execute_result"
    }
   ],
   "source": [
    "# bias of fully connected layer fc1\n",
    "net.fc1.bias"
   ]
  },
  {
   "cell_type": "code",
   "execution_count": 29,
   "metadata": {},
   "outputs": [
    {
     "data": {
      "text/plain": [
       "Parameter containing:\n",
       "tensor([[ 0.1816,  0.4152, -0.1029,  0.3742],\n",
       "        [-0.0806,  0.0529,  0.4527, -0.4638],\n",
       "        [-0.3148, -0.1266, -0.1949,  0.4320]], requires_grad=True)"
      ]
     },
     "execution_count": 29,
     "metadata": {},
     "output_type": "execute_result"
    }
   ],
   "source": [
    "# weight of fully connected layer fc2\n",
    "net.fc2.weight"
   ]
  },
  {
   "cell_type": "code",
   "execution_count": 30,
   "metadata": {},
   "outputs": [
    {
     "data": {
      "text/plain": [
       "Parameter containing:\n",
       "tensor([-0.3241, -0.2302, -0.3493], requires_grad=True)"
      ]
     },
     "execution_count": 30,
     "metadata": {},
     "output_type": "execute_result"
    }
   ],
   "source": [
    "# bias of fully connected layer fc2\n",
    "net.fc2.bias"
   ]
  },
  {
   "cell_type": "code",
   "execution_count": 31,
   "metadata": {},
   "outputs": [
    {
     "data": {
      "text/plain": [
       "tensor([[-0.2557, -0.2605, -0.4679],\n",
       "        [-0.2041, -0.2834, -0.5574],\n",
       "        [-0.2786, -0.2244, -0.3632],\n",
       "        [-0.2552, -0.2214, -0.3703],\n",
       "        [-0.3241, -0.2302, -0.3493],\n",
       "        [-0.2788, -0.2244, -0.3631],\n",
       "        [-0.3241, -0.2302, -0.3493],\n",
       "        [-0.3241, -0.2302, -0.3493],\n",
       "        [-0.3090, -0.2282, -0.3539],\n",
       "        [-0.1884, -0.2129, -0.3907]], grad_fn=<AddmmBackward0>)"
      ]
     },
     "execution_count": 31,
     "metadata": {},
     "output_type": "execute_result"
    }
   ],
   "source": [
    "# calculate predicted values\n",
    "y = net.forward(x)\n",
    "y"
   ]
  },
  {
   "cell_type": "code",
   "execution_count": 32,
   "metadata": {},
   "outputs": [
    {
     "data": {
      "text/plain": [
       "tensor([[-0.2557, -0.2605, -0.4679],\n",
       "        [-0.2041, -0.2834, -0.5574],\n",
       "        [-0.2786, -0.2244, -0.3632],\n",
       "        [-0.2552, -0.2214, -0.3703],\n",
       "        [-0.3241, -0.2302, -0.3493],\n",
       "        [-0.2788, -0.2244, -0.3631],\n",
       "        [-0.3241, -0.2302, -0.3493],\n",
       "        [-0.3241, -0.2302, -0.3493],\n",
       "        [-0.3090, -0.2282, -0.3539],\n",
       "        [-0.1884, -0.2129, -0.3907]], grad_fn=<AddmmBackward0>)"
      ]
     },
     "execution_count": 32,
     "metadata": {},
     "output_type": "execute_result"
    }
   ],
   "source": [
    "y = net(x)\n",
    "y"
   ]
  },
  {
   "cell_type": "code",
   "execution_count": 33,
   "metadata": {},
   "outputs": [
    {
     "data": {
      "text/plain": [
       "tensor(1.0882, grad_fn=<NllLossBackward0>)"
      ]
     },
     "execution_count": 33,
     "metadata": {},
     "output_type": "execute_result"
    }
   ],
   "source": [
    "# calculate loss function\n",
    "# use call method of criterion\n",
    "loss = criterion(y, t)\n",
    "loss"
   ]
  },
  {
   "cell_type": "code",
   "execution_count": 34,
   "metadata": {},
   "outputs": [],
   "source": [
    "# check grads\n",
    "net.fc1.weight.grad\n",
    "net.fc1.bias.grad\n",
    "net.fc2.weight.grad\n",
    "net.fc2.bias.grad"
   ]
  },
  {
   "cell_type": "code",
   "execution_count": 35,
   "metadata": {},
   "outputs": [],
   "source": [
    "loss.backward()"
   ]
  },
  {
   "cell_type": "code",
   "execution_count": 36,
   "metadata": {},
   "outputs": [
    {
     "data": {
      "text/plain": [
       "tensor([[-0.2311, -0.1731, -0.0627, -0.0139],\n",
       "        [ 0.7327,  0.3358,  0.6025,  0.2229],\n",
       "        [ 0.0000,  0.0000,  0.0000,  0.0000],\n",
       "        [ 0.0000,  0.0000,  0.0000,  0.0000]])"
      ]
     },
     "execution_count": 36,
     "metadata": {},
     "output_type": "execute_result"
    }
   ],
   "source": [
    "net.fc1.weight.grad"
   ]
  },
  {
   "cell_type": "code",
   "execution_count": 37,
   "metadata": {},
   "outputs": [
    {
     "data": {
      "text/plain": [
       "tensor([-0.0461,  0.1060,  0.0000,  0.0000])"
      ]
     },
     "execution_count": 37,
     "metadata": {},
     "output_type": "execute_result"
    }
   ],
   "source": [
    "net.fc1.bias.grad"
   ]
  },
  {
   "cell_type": "code",
   "execution_count": 38,
   "metadata": {},
   "outputs": [
    {
     "data": {
      "text/plain": [
       "tensor([[-0.0652,  0.0259,  0.0000,  0.0000],\n",
       "        [ 0.0366,  0.0227,  0.0000,  0.0000],\n",
       "        [ 0.0285, -0.0486,  0.0000,  0.0000]])"
      ]
     },
     "execution_count": 38,
     "metadata": {},
     "output_type": "execute_result"
    }
   ],
   "source": [
    "net.fc2.weight.grad"
   ]
  },
  {
   "cell_type": "code",
   "execution_count": 39,
   "metadata": {},
   "outputs": [
    {
     "data": {
      "text/plain": [
       "tensor([ 0.1415, -0.0452, -0.0963])"
      ]
     },
     "execution_count": 39,
     "metadata": {},
     "output_type": "execute_result"
    }
   ],
   "source": [
    "net.fc2.bias.grad"
   ]
  },
  {
   "cell_type": "code",
   "execution_count": 40,
   "metadata": {},
   "outputs": [],
   "source": [
    "# update parameters with information of grads\n",
    "optimizer.step()"
   ]
  },
  {
   "cell_type": "code",
   "execution_count": 41,
   "metadata": {},
   "outputs": [
    {
     "data": {
      "text/plain": [
       "Parameter containing:\n",
       "tensor([[ 0.0194,  0.2855, -0.4053, -0.3666],\n",
       "        [-0.2659,  0.1005, -0.0702,  0.3742],\n",
       "        [-0.0444,  0.1323, -0.1511, -0.0983],\n",
       "        [-0.4777, -0.3311, -0.2061,  0.0185]], requires_grad=True)"
      ]
     },
     "execution_count": 41,
     "metadata": {},
     "output_type": "execute_result"
    }
   ],
   "source": [
    "net.fc1.weight"
   ]
  },
  {
   "cell_type": "code",
   "execution_count": 42,
   "metadata": {},
   "outputs": [
    {
     "data": {
      "text/plain": [
       "Parameter containing:\n",
       "tensor([ 0.2023,  0.2894, -0.3390, -0.2177], requires_grad=True)"
      ]
     },
     "execution_count": 42,
     "metadata": {},
     "output_type": "execute_result"
    }
   ],
   "source": [
    "net.fc1.bias"
   ]
  },
  {
   "cell_type": "code",
   "execution_count": 43,
   "metadata": {},
   "outputs": [
    {
     "data": {
      "text/plain": [
       "Parameter containing:\n",
       "tensor([[ 0.1881,  0.4126, -0.1029,  0.3742],\n",
       "        [-0.0843,  0.0506,  0.4527, -0.4638],\n",
       "        [-0.3176, -0.1217, -0.1949,  0.4320]], requires_grad=True)"
      ]
     },
     "execution_count": 43,
     "metadata": {},
     "output_type": "execute_result"
    }
   ],
   "source": [
    "net.fc2.weight"
   ]
  },
  {
   "cell_type": "code",
   "execution_count": 44,
   "metadata": {},
   "outputs": [
    {
     "data": {
      "text/plain": [
       "Parameter containing:\n",
       "tensor([-0.3382, -0.2256, -0.3397], requires_grad=True)"
      ]
     },
     "execution_count": 44,
     "metadata": {},
     "output_type": "execute_result"
    }
   ],
   "source": [
    "net.fc2.bias"
   ]
  },
  {
   "cell_type": "code",
   "execution_count": 45,
   "metadata": {},
   "outputs": [
    {
     "data": {
      "text/plain": [
       "False"
      ]
     },
     "execution_count": 45,
     "metadata": {},
     "output_type": "execute_result"
    }
   ],
   "source": [
    "torch.cuda.is_available()"
   ]
  },
  {
   "cell_type": "code",
   "execution_count": 46,
   "metadata": {},
   "outputs": [
    {
     "name": "stdout",
     "output_type": "stream",
     "text": [
      "loss:  1.0881630182266235\n",
      "loss:  1.0393922328948975\n",
      "loss:  1.002811312675476\n",
      "loss:  1.0250868797302246\n",
      "loss:  1.0088638067245483\n",
      "loss:  0.9351975321769714\n",
      "loss:  0.8939588665962219\n",
      "loss:  0.9765418171882629\n",
      "loss:  0.9651519060134888\n"
     ]
    }
   ],
   "source": [
    "# epoch num\n",
    "max_epoch = 1\n",
    "\n",
    "# initialize network\n",
    "torch.manual_seed(0)\n",
    "\n",
    "# device selection according to the situation of GPU setting\n",
    "device = torch.device('cuda:0' if torch.cuda.is_available() else 'cpu')\n",
    "\n",
    "# network instantiation and transfer to device\n",
    "net = Net().to(device)\n",
    "\n",
    "# select optimization technique\n",
    "optimizer = torch.optim.SGD(net.parameters(), lr=0.1)\n",
    "\n",
    "for epoch in range(max_epoch):\n",
    "    for batch in train_loader:\n",
    "            # get samples of batich size number\n",
    "            x, t = batch\n",
    "\n",
    "            # transfer data to device for learning\n",
    "            x = x.to(device)\n",
    "            t = t.to(device)\n",
    "\n",
    "            # initialization of grads\n",
    "            optimizer.zero_grad()\n",
    "\n",
    "            # calculate prediction value\n",
    "            y = net(x)\n",
    "\n",
    "            # calculate loss value by target value and prediction value\n",
    "            loss = criterion(y, t)\n",
    "\n",
    "            # show loss function value\n",
    "            # .item() : tensor.Tensor => float\n",
    "            print('loss: ', loss.item())\n",
    "\n",
    "            # calculate grad of each parameter\n",
    "            loss.backward()\n",
    "\n",
    "            # update parameters with grads\n",
    "            optimizer.step()\n"
   ]
  },
  {
   "cell_type": "code",
   "execution_count": 47,
   "metadata": {},
   "outputs": [
    {
     "data": {
      "text/plain": [
       "tensor([0, 1, 0, 1, 1, 1, 0, 1, 0, 0])"
      ]
     },
     "execution_count": 47,
     "metadata": {},
     "output_type": "execute_result"
    }
   ],
   "source": [
    "# get index num of max value in each row\n",
    "y_label = torch.argmax(y, dim=1)\n",
    "\n",
    "# show result\n",
    "y_label"
   ]
  },
  {
   "cell_type": "code",
   "execution_count": 48,
   "metadata": {},
   "outputs": [
    {
     "data": {
      "text/plain": [
       "tensor([1, 1, 0, 2, 1, 2, 0, 2, 1, 1])"
      ]
     },
     "execution_count": 48,
     "metadata": {},
     "output_type": "execute_result"
    }
   ],
   "source": [
    "# target value\n",
    "t"
   ]
  },
  {
   "cell_type": "code",
   "execution_count": 49,
   "metadata": {},
   "outputs": [
    {
     "data": {
      "text/plain": [
       "tensor([False,  True,  True, False,  True, False,  True, False, False, False])"
      ]
     },
     "execution_count": 49,
     "metadata": {},
     "output_type": "execute_result"
    }
   ],
   "source": [
    "y_label == t"
   ]
  },
  {
   "cell_type": "code",
   "execution_count": 50,
   "metadata": {},
   "outputs": [
    {
     "data": {
      "text/plain": [
       "tensor(4)"
      ]
     },
     "execution_count": 50,
     "metadata": {},
     "output_type": "execute_result"
    }
   ],
   "source": [
    "# sum of True\n",
    "(y_label == t).sum()"
   ]
  },
  {
   "cell_type": "code",
   "execution_count": 51,
   "metadata": {},
   "outputs": [
    {
     "data": {
      "text/plain": [
       "tensor(4.)"
      ]
     },
     "execution_count": 51,
     "metadata": {},
     "output_type": "execute_result"
    }
   ],
   "source": [
    "# int => float\n",
    "(y_label == t).sum() * 1.0"
   ]
  },
  {
   "cell_type": "code",
   "execution_count": 53,
   "metadata": {},
   "outputs": [
    {
     "data": {
      "text/plain": [
       "tensor(0.4000)"
      ]
     },
     "execution_count": 53,
     "metadata": {},
     "output_type": "execute_result"
    }
   ],
   "source": [
    "# accuracy\n",
    "acc = (y_label == t).sum() * 1.0 / len(t)\n",
    "acc"
   ]
  },
  {
   "cell_type": "code",
   "execution_count": 57,
   "metadata": {},
   "outputs": [
    {
     "name": "stdout",
     "output_type": "stream",
     "text": [
      "accuracy:  tensor(0.6000)\n",
      "accuracy:  tensor(0.8000)\n",
      "accuracy:  tensor(0.6000)\n",
      "accuracy:  tensor(0.6000)\n",
      "accuracy:  tensor(0.6000)\n",
      "accuracy:  tensor(0.5000)\n",
      "accuracy:  tensor(0.4000)\n",
      "accuracy:  tensor(0.2000)\n",
      "accuracy:  tensor(0.4000)\n",
      "accuracy:  tensor(0.7000)\n",
      "accuracy:  tensor(0.2000)\n",
      "accuracy:  tensor(0.8000)\n",
      "accuracy:  tensor(0.5000)\n",
      "accuracy:  tensor(0.6000)\n",
      "accuracy:  tensor(0.6000)\n",
      "accuracy:  tensor(0.4000)\n",
      "accuracy:  tensor(0.8000)\n",
      "accuracy:  tensor(0.2000)\n",
      "accuracy:  tensor(0.5000)\n",
      "accuracy:  tensor(1.)\n",
      "accuracy:  tensor(0.7000)\n",
      "accuracy:  tensor(0.9000)\n",
      "accuracy:  tensor(0.7000)\n",
      "accuracy:  tensor(0.6000)\n",
      "accuracy:  tensor(0.5000)\n",
      "accuracy:  tensor(0.7000)\n",
      "accuracy:  tensor(0.7000)\n",
      "accuracy:  tensor(0.8000)\n",
      "accuracy:  tensor(0.6000)\n",
      "accuracy:  tensor(1.)\n",
      "accuracy:  tensor(0.6000)\n",
      "accuracy:  tensor(0.7000)\n",
      "accuracy:  tensor(0.4000)\n",
      "accuracy:  tensor(0.8000)\n",
      "accuracy:  tensor(0.6000)\n",
      "accuracy:  tensor(0.9000)\n",
      "accuracy:  tensor(0.7000)\n",
      "accuracy:  tensor(0.7000)\n",
      "accuracy:  tensor(0.7000)\n",
      "accuracy:  tensor(0.9000)\n",
      "accuracy:  tensor(0.8000)\n",
      "accuracy:  tensor(0.6000)\n",
      "accuracy:  tensor(0.7000)\n",
      "accuracy:  tensor(0.8000)\n",
      "accuracy:  tensor(1.)\n",
      "accuracy:  tensor(0.9000)\n",
      "accuracy:  tensor(0.8000)\n",
      "accuracy:  tensor(0.7000)\n",
      "accuracy:  tensor(0.3000)\n",
      "accuracy:  tensor(0.4000)\n",
      "accuracy:  tensor(0.8000)\n",
      "accuracy:  tensor(0.9000)\n",
      "accuracy:  tensor(1.)\n",
      "accuracy:  tensor(0.8000)\n",
      "accuracy:  tensor(0.7000)\n",
      "accuracy:  tensor(0.9000)\n",
      "accuracy:  tensor(0.7000)\n",
      "accuracy:  tensor(0.7000)\n",
      "accuracy:  tensor(0.9000)\n",
      "accuracy:  tensor(0.5000)\n",
      "accuracy:  tensor(0.7000)\n",
      "accuracy:  tensor(0.6000)\n",
      "accuracy:  tensor(0.5000)\n",
      "accuracy:  tensor(0.8000)\n",
      "accuracy:  tensor(1.)\n",
      "accuracy:  tensor(0.8000)\n",
      "accuracy:  tensor(0.9000)\n",
      "accuracy:  tensor(0.3000)\n",
      "accuracy:  tensor(0.7000)\n",
      "accuracy:  tensor(1.)\n",
      "accuracy:  tensor(0.7000)\n",
      "accuracy:  tensor(0.6000)\n",
      "accuracy:  tensor(0.4000)\n",
      "accuracy:  tensor(0.9000)\n",
      "accuracy:  tensor(0.8000)\n",
      "accuracy:  tensor(0.7000)\n",
      "accuracy:  tensor(0.8000)\n",
      "accuracy:  tensor(0.8000)\n",
      "accuracy:  tensor(0.5000)\n",
      "accuracy:  tensor(0.9000)\n",
      "accuracy:  tensor(0.7000)\n",
      "accuracy:  tensor(0.9000)\n",
      "accuracy:  tensor(0.7000)\n",
      "accuracy:  tensor(0.8000)\n",
      "accuracy:  tensor(0.7000)\n",
      "accuracy:  tensor(0.8000)\n",
      "accuracy:  tensor(0.7000)\n",
      "accuracy:  tensor(0.4000)\n",
      "accuracy:  tensor(0.6000)\n",
      "accuracy:  tensor(0.7000)\n"
     ]
    }
   ],
   "source": [
    "# network initialization\n",
    "torch.manual_seed(0)\n",
    "\n",
    "# instantiation of network and transfer to device\n",
    "net = Net().to(device)\n",
    "\n",
    "# select optimization technique\n",
    "optimizer = torch.optim.SGD(net.parameters(), lr=0.1)\n",
    "\n",
    "max_epoch = 10\n",
    "\n",
    "for epoch in range(max_epoch):\n",
    "    for batch in train_loader:\n",
    "        x, t = batch\n",
    "        x = x.to(device)\n",
    "        t - t.to(device)\n",
    "\n",
    "        optimizer.zero_grad()\n",
    "\n",
    "        y = net(x)\n",
    "\n",
    "        loss = criterion(y, t)\n",
    "\n",
    "        # calculate accuracy\n",
    "        y_label = torch.argmax(y, dim=1)\n",
    "        acc = (y_label == t).sum() * 1.0 / len(t)\n",
    "        print('accuracy: ', acc)\n",
    "\n",
    "        loss.backward()\n",
    "\n",
    "        optimizer.step()"
   ]
  },
  {
   "cell_type": "code",
   "execution_count": 58,
   "metadata": {},
   "outputs": [
    {
     "data": {
      "text/plain": [
       "tensor(0.7667)"
      ]
     },
     "execution_count": 58,
     "metadata": {},
     "output_type": "execute_result"
    }
   ],
   "source": [
    "def calc_acc(data_loader):\n",
    "    with torch.no_grad():\n",
    "        accs = [] # for result of each batch\n",
    "\n",
    "        for batch in data_loader:\n",
    "            x, t = batch\n",
    "            x = x.to(device)\n",
    "            t = t.to(device)\n",
    "            y = net(x)\n",
    "\n",
    "            y_label = torch.argmax(y, dim=1)\n",
    "            acc = (y_label == t).sum() * 1.0 / len(t)\n",
    "            accs.append(acc)\n",
    "\n",
    "    # calculate whole average\n",
    "    avg_acc = torch.tensor(accs).mean()\n",
    "\n",
    "    return avg_acc\n",
    "\n",
    "# check with val_data\n",
    "val_acc = calc_acc(val_loader)\n",
    "val_acc"
   ]
  },
  {
   "cell_type": "code",
   "execution_count": 59,
   "metadata": {},
   "outputs": [
    {
     "data": {
      "text/plain": [
       "tensor(0.6667)"
      ]
     },
     "execution_count": 59,
     "metadata": {},
     "output_type": "execute_result"
    }
   ],
   "source": [
    "# check with test_data\n",
    "test_acc = calc_acc(test_loader)\n",
    "test_acc"
   ]
  },
  {
   "cell_type": "code",
   "execution_count": null,
   "metadata": {},
   "outputs": [],
   "source": []
  }
 ],
 "metadata": {
  "kernelspec": {
   "display_name": "Python 3.10.5 64-bit",
   "language": "python",
   "name": "python3"
  },
  "language_info": {
   "codemirror_mode": {
    "name": "ipython",
    "version": 3
   },
   "file_extension": ".py",
   "mimetype": "text/x-python",
   "name": "python",
   "nbconvert_exporter": "python",
   "pygments_lexer": "ipython3",
   "version": "3.10.5"
  },
  "orig_nbformat": 4,
  "vscode": {
   "interpreter": {
    "hash": "84ad91a4a539be6a2ce1eec2640e282be04f02c4091a066051e3be5a944eca7c"
   }
  }
 },
 "nbformat": 4,
 "nbformat_minor": 2
}
